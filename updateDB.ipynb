{
 "cells": [
  {
   "cell_type": "code",
   "execution_count": 1,
   "metadata": {},
   "outputs": [],
   "source": [
    "import pandas as pd\n",
    "from sqlalchemy import create_engine, text\n",
    "\n",
    "def connectSQL(server_name,database):\n",
    "    # Replace 'your_database' and 'your_server' with your actual SQL Server and database name\n",
    "    database_connection = create_engine(f'mssql+pyodbc://@{server_name}/{database}?driver=ODBC+Driver+17+for+SQL+Server&trusted_connection=yes')\n",
    "    print(f'Connecting to {server_name}, {database}')\n",
    "    return database_connection\n",
    "\n",
    "def uploadFileToSQL(database_connection,df,table_name):\n",
    "    # Create a new table in the database\n",
    "    df.to_sql(table_name, con=database_connection, if_exists='replace', index=False)\n",
    "    print(f\"Table '{table_name}' created and data imported successfully.\")\n"
   ]
  },
  {
   "cell_type": "code",
   "execution_count": 2,
   "metadata": {},
   "outputs": [
    {
     "name": "stdout",
     "output_type": "stream",
     "text": [
      "Connecting to C161LX084150214, MBVCS\n"
     ]
    }
   ],
   "source": [
    "### CREATE CONNECTION TO THE SERVER ###\n",
    "server_name = 'your-server-name'\n",
    "database = 'your-database-name'\n",
    "database_connection = connectSQL(server_name,database)    \n"
   ]
  },
  {
   "cell_type": "code",
   "execution_count": 4,
   "metadata": {},
   "outputs": [
    {
     "name": "stdout",
     "output_type": "stream",
     "text": [
      "Table 'Part Categories' created and data imported successfully.\n"
     ]
    }
   ],
   "source": [
    "### CREATE DATAFRAME TO UPLOAD TO THE SERVER ###\n",
    "\n",
    "## 1. Part Category    \n",
    "# Replace 'path_to_excel_file' with the path to your Excel file\n",
    "excel_file_path = r'path-to-your-excel-file'\n",
    "# Replace 'your_table_name' with the desired table name\n",
    "table_name = 'Part Categories'\n",
    "sheet_name = 'Total'\n",
    "df = pd.read_excel(excel_file_path,sheet_name=sheet_name)\n",
    "current_column_name = 'MC (1)'\n",
    "new_column_name = 'MKTCD'\n",
    "# Rename the column\n",
    "df.rename(columns={current_column_name: new_column_name}, inplace=True)\n",
    "df=df[['SPS_Bezeichnung','MKTCD']]\n",
    "df = df.drop_duplicates(subset=['MKTCD'])\n",
    "df = df.dropna(subset=['MKTCD'])\n",
    "uploadFileToSQL(database_connection,df,table_name)\n"
   ]
  },
  {
   "cell_type": "code",
   "execution_count": 5,
   "metadata": {},
   "outputs": [
    {
     "name": "stdout",
     "output_type": "stream",
     "text": [
      "Table 'Date table' created and data imported successfully.\n",
      "Table 'Dealer table' created and data imported successfully.\n",
      "Table 'Performance summary' created and data imported successfully.\n"
     ]
    }
   ],
   "source": [
    "#2. Date table\n",
    "\n",
    "# Replace 'path_to_excel_file' with the path to your Excel file\n",
    "excel_file_path = r'path_to_excel_file'\n",
    "# Replace 'your_table_name' with the desired table name\n",
    "table_name = 'Date table'\n",
    "sheet_name = 'Date table'\n",
    "df = pd.read_excel(excel_file_path,sheet_name=sheet_name)\n",
    "uploadFileToSQL(database_connection,df,table_name)\n",
    "\n",
    "#3. Dealer table\n",
    "\n",
    "# Replace 'path_to_excel_file' with the path to your Excel file\n",
    "excel_file_path = r'path_to_excel_file'\n",
    "# Replace 'your_table_name' with the desired table name\n",
    "table_name = 'Dealer table'\n",
    "sheet_name = 'Dealer table'\n",
    "df = pd.read_excel(excel_file_path,sheet_name=sheet_name)\n",
    "uploadFileToSQL(database_connection,df,table_name)\n",
    "\n",
    "#4. Performance Summary\n",
    "\n",
    "# Replace 'path_to_excel_file' with the path to your Excel file\n",
    "excel_file_path = r'path_to_excel_file'\n",
    "# Replace 'your_table_name' with the desired table name\n",
    "table_name = 'Performance summary'\n",
    "sheet_name = 'Performance summary'\n",
    "df = pd.read_excel(excel_file_path,sheet_name=sheet_name)\n",
    "uploadFileToSQL(database_connection,df,table_name)\n",
    "\n",
    "\n"
   ]
  },
  {
   "cell_type": "code",
   "execution_count": 7,
   "metadata": {},
   "outputs": [
    {
     "name": "stdout",
     "output_type": "stream",
     "text": [
      "Table 'YTD_kerridge_data' created and data imported successfully.\n"
     ]
    }
   ],
   "source": [
    "# 5. Kerridge Data \n",
    "import os \n",
    "\n",
    "# Specify the folder path where subfolders with CSV files are located\n",
    "folder_path = r'path_to_folder'\n",
    "\n",
    "# Initialize an empty list to store DataFrames from each CSV file\n",
    "dataframes = []\n",
    "\n",
    "# Iterate through each subfolder\n",
    "for root, dirs, files in os.walk(folder_path):\n",
    "    for file in files:\n",
    "        if file.endswith(\".csv\"):\n",
    "            # Create the full file path\n",
    "            file_path = os.path.join(root, file)\n",
    "            \n",
    "            # Read the CSV file into a DataFrame and append it to the list\n",
    "            df = pd.read_csv(file_path)\n",
    "            dataframes.append(df)\n",
    "\n",
    "# Concatenate all DataFrames into a single DataFrame\n",
    "result_df = pd.concat(dataframes, ignore_index=True)\n",
    "uploadFileToSQL(database_connection,result_df,table_name='YTD_kerridge_data')"
   ]
  }
 ],
 "metadata": {
  "kernelspec": {
   "display_name": "Python 3",
   "language": "python",
   "name": "python3"
  },
  "language_info": {
   "codemirror_mode": {
    "name": "ipython",
    "version": 3
   },
   "file_extension": ".py",
   "mimetype": "text/x-python",
   "name": "python",
   "nbconvert_exporter": "python",
   "pygments_lexer": "ipython3",
   "version": "3.11.6"
  }
 },
 "nbformat": 4,
 "nbformat_minor": 2
}
